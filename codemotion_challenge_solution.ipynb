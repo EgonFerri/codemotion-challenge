{
  "nbformat": 4,
  "nbformat_minor": 0,
  "metadata": {
    "colab": {
      "provenance": [],
      "toc_visible": true,
      "authorship_tag": "ABX9TyOyHjMhF8ufKZckxE/m7lRt",
      "include_colab_link": true
    },
    "kernelspec": {
      "name": "python3",
      "display_name": "Python 3"
    },
    "language_info": {
      "name": "python"
    }
  },
  "cells": [
    {
      "cell_type": "markdown",
      "metadata": {
        "id": "view-in-github",
        "colab_type": "text"
      },
      "source": [
        "<a href=\"https://colab.research.google.com/github/EgonFerri/codemotion-challenge/blob/main/codemotion_challenge_solution.ipynb\" target=\"_parent\"><img src=\"https://colab.research.google.com/assets/colab-badge.svg\" alt=\"Open In Colab\"/></a>"
      ]
    },
    {
      "cell_type": "code",
      "source": [
        "import pandas as pd\n",
        "import polars as pl\n",
        "import requests\n",
        "from typing import Tuple, Sequence, List, Dict\n",
        "\n",
        "\n",
        "response = requests.get('https://raw.githubusercontent.com/EgonFerri/codemotion-challenge/refs/heads/main/attacking_types_chart.csv')\n",
        "with open('attacking_types_chart.csv', \"wb\") as file:\n",
        "  file.write(response.content)\n",
        "\n",
        "response = requests.get('https://raw.githubusercontent.com/EgonFerri/codemotion-challenge/refs/heads/main/pokemon.csv')\n",
        "with open('pokemon.csv', \"wb\") as file:\n",
        "    file.write(response.content)"
      ],
      "metadata": {
        "id": "XMwEIbW-y5Zg"
      },
      "execution_count": 42,
      "outputs": []
    },
    {
      "cell_type": "markdown",
      "source": [
        "# Challenge: PokéBattle Champion – Type Multipliers Edition Background"
      ],
      "metadata": {
        "id": "WNHuJ8N3zghT"
      }
    },
    {
      "cell_type": "markdown",
      "source": [
        "\n",
        "You’re a Codemotion trainer with a team of 6 Pokémon (all from the first two generations), and you’re about to face a single opponent (a real Gen 1 or Gen 2 Pokémon).\n",
        "Your job is to choose the best Pokémon to battle the opponent by computing a score for each team member based on its stats and type interactions."
      ],
      "metadata": {
        "id": "Fe4Ysj5G4Ect"
      }
    },
    {
      "cell_type": "markdown",
      "source": [
        "# The Challenge"
      ],
      "metadata": {
        "id": "GquncSNHKwXp"
      }
    },
    {
      "cell_type": "markdown",
      "source": [
        "### Your Function Must Do the Following\n",
        "\n",
        "Implement the function with the following signature:\n",
        "\n",
        "```python\n",
        "def choose_best_pokemon(team: dict[str, int], opponent: dict[str, int]) -> str:\n",
        "    \"\"\"\n",
        "    team: a dictionary mapping Pokémon names (str) to desired levels (int)\n",
        "          e.g., {\"pikachu\": 32, \"charmander\": 30, ...}\n",
        "    opponent: a dictionary with keys \"name\" (str) and \"level\" (int)\n",
        "          e.g., {\"name\": \"geodude\", \"level\": 20}\n",
        "    \n",
        "    Returns:\n",
        "      The name (str) of the team Pokémon with the highest computed score.\n",
        "    \"\"\"\n",
        "```\n",
        "\n",
        "Your function must perform the following steps:\n",
        "\n",
        "1. **Data Loading:**  \n",
        "   - Use a helper function (e.g., `read_data(file1, file2)`) to load the CSV files:\n",
        "     - `pokemon.csv` containing each Pokémon’s record (including `\"Attack\"`, `\"Defense\"`, `\"Total\"`, `\"Type 1\"`, and `\"Type 2\"`).\n",
        "     - `attacking_types_chart.csv` to build a lookup table (e.g., `types_table`) for attacking multipliers.\n",
        "   - Normalize Pokémon names and type names (e.g., convert to lowercase) for correct lookups.\n",
        "\n",
        "2. **Retrieve Opponent Data:**  \n",
        "   - Using a helper function (e.g., `get_pokemon_data(pokemon_data, pokemon_name)`), obtain the opponent’s data from `pokemon.csv`.  \n",
        "   - This function should return a tuple:  \n",
        "     ```python\n",
        "     (opponent_types, opponent_Attack, opponent_Defense)\n",
        "     ```  \n",
        "     where `opponent_types` is a list containing the opponent’s `\"Type 1\"` and (if nonempty) `\"Type 2\"`.\n",
        "   - Use the opponent’s level as provided in the `opponent` dictionary (do not compute it from the `\"Total\"` stat).\n",
        "\n",
        "3. **Iterate Over the Team:**  \n",
        "   For each Pokémon in the `team` dictionary:\n",
        "   - Retrieve the team Pokémon’s data (its types, Attack, and Defense) via `get_pokemon_data`.\n",
        "   - Compute the attacking bonus when the team Pokémon attacks the opponent by calling a helper function, for example:  \n",
        "     ```python\n",
        "     bonus1 = calculate_attacking_bonus(types_table, team_types, opponent_types)\n",
        "     ```\n",
        "   - Compute the attacking bonus for the opponent attacking the team Pokémon by calling:  \n",
        "     ```python\n",
        "     bonus2 = calculate_attacking_bonus(types_table, opponent_types, team_types)\n",
        "     ```\n",
        "   - Compute the score using a helper function (e.g., `calculate_score`) with the formula:\n",
        "     ```python\n",
        "     score = (Attack * bonus1 - opponent_Defense) + \\\n",
        "             (Defense - opponent_Attack * bonus2) + \\\n",
        "             5 * (team_level - opponent_level)\n",
        "     ```\n",
        "     Here, `team_level` is the level provided for that Pokémon in the team dictionary.\n",
        "\n",
        "4. **Select the Best Pokémon:**  \n",
        "   - Keep track of the Pokémon with the highest computed score.\n",
        "   - Optionally, print a message indicating the opponent’s name and the best choice.\n",
        "\n",
        "5. **Return:**  \n",
        "   - Return the name (key from the team dictionary) of the Pokémon with the highest score.\n",
        "   - If the team is empty, return `None`.\n",
        "\n",
        "---\n",
        "\n",
        "Implement your solution following this outline. Partial credit may be given for correctly implementing individual helper functions (such as data loading, computing the attacking bonus, or calculating the score) even if the full solution is not completed."
      ],
      "metadata": {
        "id": "6RT1oe7r4_Mf"
      }
    },
    {
      "cell_type": "markdown",
      "source": [
        "# Your solution\n"
      ],
      "metadata": {
        "id": "FiiyxB9KyQ6t"
      }
    },
    {
      "cell_type": "markdown",
      "source": [
        "## Read data"
      ],
      "metadata": {
        "id": "eBE0sFjyyX8e"
      }
    },
    {
      "cell_type": "markdown",
      "source": [
        "#### Your function"
      ],
      "metadata": {
        "id": "1B5Tk2OR3znS"
      }
    },
    {
      "cell_type": "code",
      "source": [
        "def read_data(file1: str, file2: str) -> Tuple[pd.DataFrame, pd.DataFrame]:\n",
        "    \"\"\"\n",
        "    Reads two CSV files into pandas DataFrames.\n",
        "\n",
        "    Parameters:\n",
        "      - file1: Path to 'pokemon.csv'.\n",
        "      - file2: Path to 'attacking_types_chart.csv'.\n",
        "\n",
        "    Returns:\n",
        "      A tuple (pokemon_data, types_data) where:\n",
        "        - pokemon_data is a DataFrame containing the Pokémon records.\n",
        "        - types_data is a DataFrame containing the attacking types chart.\n",
        "    \"\"\"\n",
        "    pokemon_data = pd.read_csv(file1, index_col=0)\n",
        "    types_data = pd.read_csv(file2, index_col=0)\n",
        "    return pokemon_data, types_data\n",
        "\n",
        "pokemons, types_table = read_data('pokemon.csv', 'attacking_types_chart.csv')"
      ],
      "metadata": {
        "id": "zuBEk8QYwQEJ"
      },
      "execution_count": 22,
      "outputs": []
    },
    {
      "cell_type": "markdown",
      "source": [
        "## Calculate score (1 pt)\n"
      ],
      "metadata": {
        "id": "r4slR-9s0AI7"
      }
    },
    {
      "cell_type": "markdown",
      "source": [
        "#### Your function"
      ],
      "metadata": {
        "id": "8xA61pp84gDH"
      }
    },
    {
      "cell_type": "code",
      "source": [
        "def calculate_score(att1: int, def1: int, att2: int, def2: int,\n",
        "                    lev1: int, lev2: int, attbonus1: float, attbonus2: float) -> float:\n",
        "    \"\"\"\n",
        "    Computes the score for a matchup between a team Pokémon and the opponent.\n",
        "\n",
        "    Formula:\n",
        "      score = (Attack * attacking_bonus - opponent_Defense) +\n",
        "              (Defense - opponent_Attack * attacking_bonus2) +\n",
        "              5 * (team_level - opponent_level)\n",
        "\n",
        "    Parameters:\n",
        "      - att1: Team Pokémon's Attack.\n",
        "      - def1: Team Pokémon's Defense.\n",
        "      - att2: Opponent's Attack.\n",
        "      - def2: Opponent's Defense.\n",
        "      - lev1: Level of the team Pokémon.\n",
        "      - lev2: Level of the opponent.\n",
        "      - attbonus1: Attacking bonus multiplier when team Pokémon attacks.\n",
        "      - attbonus2: Attacking bonus multiplier when opponent attacks.\n",
        "\n",
        "    Returns:\n",
        "      The computed score as a float.\n",
        "    \"\"\"\n",
        "    a = (att1 * attbonus1) - def2\n",
        "    b = def1 - (att2 * attbonus2)\n",
        "    c = 5 * (lev1 - lev2)\n",
        "    return a + b + c"
      ],
      "metadata": {
        "id": "CtlmifNiEpQF"
      },
      "execution_count": 25,
      "outputs": []
    },
    {
      "cell_type": "markdown",
      "source": [
        "#### Tests"
      ],
      "metadata": {
        "id": "q3jsFuNr4jeo"
      }
    },
    {
      "cell_type": "code",
      "source": [
        "def test_calculate_score_case1():\n",
        "    # Test with simple numbers.\n",
        "    # Team Pokémon: Attack=50, Defense=40, Level=10, attbonus1=2.0\n",
        "    # Opponent: Attack=20, Defense=30, Level=8, attbonus2=1.0\n",
        "    # Expected:\n",
        "    #   a = (50*2.0 - 30) = 100 - 30 = 70\n",
        "    #   b = (40 - 20*1.0) = 40 - 20 = 20\n",
        "    #   c = 5*(10-8) = 5*2 = 10\n",
        "    # Total score = 70 + 20 + 10 = 100\n",
        "    score = calculate_score(50, 40, 20, 30, 10, 8, 2.0, 1.0)\n",
        "    assert score == 100, f\"Expected 100, got {score}\"\n",
        "\n",
        "def test_calculate_score_case2():\n",
        "    # Another test with different parameters.\n",
        "    # Team Pokémon: Attack=60, Defense=30, Level=15, attbonus1=1.5\n",
        "    # Opponent: Attack=40, Defense=40, Level=12, attbonus2=0.5\n",
        "    # Expected:\n",
        "    #   a = (60*1.5 - 40) = 90 - 40 = 50\n",
        "    #   b = (30 - 40*0.5) = 30 - 20 = 10\n",
        "    #   c = 5*(15-12) = 5*3 = 15\n",
        "    # Total score = 50 + 10 + 15 = 75\n",
        "    score = calculate_score(60, 30, 40, 40, 15, 12, 1.5, 0.5)\n",
        "    expected = 75\n",
        "    assert score == expected, f\"Expected {expected}, got {score}\"\n",
        "\n",
        "def test_calculate_score_negative():\n",
        "    # Test where differences lead to negative contributions.\n",
        "    # Team Pokémon: Attack=30, Defense=50, Level=10, attbonus1=1.2\n",
        "    # Opponent: Attack=60, Defense=70, Level=12, attbonus2=1.2\n",
        "    # Expected:\n",
        "    #   a = (30*1.2 - 70) = 36 - 70 = -34\n",
        "    #   b = (50 - 60*1.2) = 50 - 72 = -22\n",
        "    #   c = 5*(10-12) = -10\n",
        "    # Total score = -34 + (-22) + (-10) = -66\n",
        "    score = calculate_score(30, 50, 60, 70, 10, 12, 1.2, 1.2)\n",
        "    expected = -66\n",
        "    assert score == expected, f\"Expected {expected}, got {score}\"\n",
        "\n",
        "if __name__ == \"__main__\":\n",
        "    test_calculate_score_case1()\n",
        "    test_calculate_score_case2()\n",
        "    test_calculate_score_negative()\n",
        "    print(\"All calculate_score tests passed.\")"
      ],
      "metadata": {
        "colab": {
          "base_uri": "https://localhost:8080/"
        },
        "id": "QGjFvbmj4lm4",
        "outputId": "cf783ee1-5d9c-4f75-a3c0-7428da89befd"
      },
      "execution_count": 47,
      "outputs": [
        {
          "output_type": "stream",
          "name": "stdout",
          "text": [
            "All calculate_score tests passed.\n"
          ]
        }
      ]
    },
    {
      "cell_type": "markdown",
      "source": [
        "## Calculate attacking bonus (2pt)"
      ],
      "metadata": {
        "id": "TCBUd6px0-aK"
      }
    },
    {
      "cell_type": "markdown",
      "source": [
        "#### Your function"
      ],
      "metadata": {
        "id": "qoq5hDko5XOd"
      }
    },
    {
      "cell_type": "code",
      "source": [
        "def calculate_attacking_bonus(types_table: pd.DataFrame,\n",
        "                              types1: Sequence[str] = (),\n",
        "                              types2: Sequence[str] = ()) -> float:\n",
        "    \"\"\"\n",
        "    Computes the attacking bonus as the product of multipliers for every pairing\n",
        "    of an attacker's type (from types1) and a defender's type (from types2).\n",
        "\n",
        "    Parameters:\n",
        "      - types_table: A DataFrame representing the attacking types chart.\n",
        "      - types1: A sequence of attacker type names (e.g., ('grass', 'poison')).\n",
        "      - types2: A sequence of defender type names (e.g., ('rock', 'ground')).\n",
        "\n",
        "    Returns:\n",
        "      The product of all corresponding multipliers as a float.\n",
        "    \"\"\"\n",
        "    bonus = 1.0\n",
        "    for attacker_type in types1:\n",
        "        for defender_type in types2:\n",
        "            bonus *= types_table.loc[attacker_type, defender_type]\n",
        "    return bonus"
      ],
      "metadata": {
        "id": "dfBHJF0f7a0u"
      },
      "execution_count": 49,
      "outputs": []
    },
    {
      "cell_type": "markdown",
      "source": [
        "#### Tests"
      ],
      "metadata": {
        "id": "jf1qnn1P5agM"
      }
    },
    {
      "cell_type": "code",
      "source": [
        "def test_bonus_single():\n",
        "    # Test: Attacker 'Grass' vs Defender 'Fire'\n",
        "    # Expected: Look up row \"Grass\", column \"Fire\" → 0.5\n",
        "    bonus = calculate_attacking_bonus(types_table, ['Grass'], ['Fire'])\n",
        "    expected = 0.5\n",
        "    assert abs(bonus - expected) < 1e-6, f\"Expected {expected}, got {bonus}\"\n",
        "\n",
        "def test_bonus_multiple():\n",
        "    # Test: Attacker types ['Fire', 'Fighting'] vs Defender types ['Rock', 'Water']\n",
        "    # For attacker 'Fire' vs 'Rock': row \"Fire\", column \"Rock\" → 0.5\n",
        "    # For attacker 'Fire' vs 'Water': row \"Fire\", column \"Water\" → 0.5\n",
        "    # For attacker 'Fighting' vs 'Rock': row \"Fighting\", column \"Rock\" → 2\n",
        "    # For attacker 'Fighting' vs 'Water': row \"Fighting\", column \"Water\" → 1\n",
        "    # Total product = 0.5 * 0.5 * 2 * 1 = 0.5\n",
        "    bonus = calculate_attacking_bonus(types_table, ['Fire', 'Fighting'], ['Rock', 'Water'])\n",
        "    expected = 0.5\n",
        "    assert abs(bonus - expected) < 1e-6, f\"Expected {expected}, got {bonus}\"\n",
        "\n",
        "def test_bonus_empty_attacker():\n",
        "    # Test: Empty attacker types should yield a product of 1.0.\n",
        "    bonus = calculate_attacking_bonus(types_table, [], ['Rock', 'Water'])\n",
        "    expected = 1.0\n",
        "    assert abs(bonus - expected) < 1e-6, f\"Expected {expected}, got {bonus}\"\n",
        "\n",
        "def test_bonus_empty_defender():\n",
        "    # Test: Empty defender types should yield a product of 1.0.\n",
        "    bonus = calculate_attacking_bonus(types_table, ['Fire'], [])\n",
        "    expected = 1.0\n",
        "    assert abs(bonus - expected) < 1e-6, f\"Expected {expected}, got {bonus}\"\n",
        "\n",
        "def test_bonus_both_empty():\n",
        "    # Test: Both attacker and defender types empty should yield 1.0.\n",
        "    bonus = calculate_attacking_bonus(types_table, [], [])\n",
        "    expected = 1.0\n",
        "    assert abs(bonus - expected) < 1e-6, f\"Expected {expected}, got {bonus}\"\n",
        "\n",
        "if __name__ == \"__main__\":\n",
        "    test_bonus_single()\n",
        "    test_bonus_multiple()\n",
        "    test_bonus_empty_attacker()\n",
        "    test_bonus_empty_defender()\n",
        "    test_bonus_both_empty()\n",
        "    print(\"All calculate_attacking_bonus tests passed.\")"
      ],
      "metadata": {
        "colab": {
          "base_uri": "https://localhost:8080/"
        },
        "id": "v_oEur8r5Z95",
        "outputId": "b50ac6a1-3a4c-441f-bc62-11de81a3101b"
      },
      "execution_count": 48,
      "outputs": [
        {
          "output_type": "stream",
          "name": "stdout",
          "text": [
            "All calculate_attacking_bonus tests passed.\n"
          ]
        }
      ]
    },
    {
      "cell_type": "markdown",
      "source": [
        "## Get pokemon data (2pt)"
      ],
      "metadata": {
        "id": "q70BtPYG2i8q"
      }
    },
    {
      "cell_type": "markdown",
      "source": [
        "#### Your function"
      ],
      "metadata": {
        "id": "eGcbyBJC6XD3"
      }
    },
    {
      "cell_type": "code",
      "source": [
        "\n",
        "def get_pokemon_data(pokemon_data: pd.DataFrame, pokemon_name: str) -> Tuple[List[str], int, int]:\n",
        "    \"\"\"\n",
        "    Retrieves a Pokémon's type(s), Attack, and Defense from the provided DataFrame.\n",
        "\n",
        "    Parameters:\n",
        "      - pokemon_data: A DataFrame containing the Pokémon records from 'pokemon.csv'.\n",
        "      - pokemon_name: The name of the Pokémon (case-insensitive).\n",
        "\n",
        "    Returns:\n",
        "      A tuple (types, Attack, Defense), where:\n",
        "        - types is a list of the Pokémon's types (e.g., ['fire'] or ['grass', 'poison']).\n",
        "        - Attack is the Pokémon's Attack stat (int).\n",
        "        - Defense is the Pokémon's Defense stat (int).\n",
        "    \"\"\"\n",
        "    # Normalize the Pokémon name (capitalize as needed to match CSV)\n",
        "    pkmn = pokemon_name.capitalize()\n",
        "    row = pokemon_data[pokemon_data['Name'] == pkmn].reset_index(drop=True).to_dict()\n",
        "    types = [row['Type 1'][0]]\n",
        "    if isinstance(row['Type 2'][0], str) and row['Type 2'][0].strip() != \"\":\n",
        "        types.append(row['Type 2'][0])\n",
        "    return types, row['Attack'][0], row['Defense'][0]"
      ],
      "metadata": {
        "id": "Wd46RHCA-_2y"
      },
      "execution_count": 39,
      "outputs": []
    },
    {
      "cell_type": "markdown",
      "source": [
        "#### Tests"
      ],
      "metadata": {
        "id": "-2-KcJTM6Zio"
      }
    },
    {
      "cell_type": "code",
      "source": [
        "df = pokemons\n",
        "\n",
        "def test_get_pokemon_data_bulbasaur():\n",
        "    types, attack, defense = get_pokemon_data(df, \"bulbasaur\")\n",
        "    # Expected: Bulbasaur has two types: \"Grass\" and \"Poison\"; Attack 49, Defense 49.\n",
        "    assert types == [\"Grass\", \"Poison\"], f\"Expected ['Grass', 'Poison'], got {types}\"\n",
        "    assert attack == 49, f\"Expected Attack 49, got {attack}\"\n",
        "    assert defense == 49, f\"Expected Defense 49, got {defense}\"\n",
        "\n",
        "def test_get_pokemon_data_charmander():\n",
        "    types, attack, defense = get_pokemon_data(df, \"charmander\")\n",
        "    # Expected: Charmander has one type: \"Fire\"; Attack 52, Defense 43.\n",
        "    assert types == [\"Fire\"], f\"Expected ['Fire'], got {types}\"\n",
        "    assert attack == 52, f\"Expected Attack 52, got {attack}\"\n",
        "    assert defense == 43, f\"Expected Defense 43, got {defense}\"\n",
        "\n",
        "def test_get_pokemon_data_squirtle():\n",
        "    types, attack, defense = get_pokemon_data(df, \"squirtle\")\n",
        "    # Expected: Squirtle has one type: \"Water\"; Attack 48, Defense 65.\n",
        "    assert types == [\"Water\"], f\"Expected ['Water'], got {types}\"\n",
        "    assert attack == 48, f\"Expected Attack 48, got {attack}\"\n",
        "    assert defense == 65, f\"Expected Defense 65, got {defense}\"\n",
        "\n",
        "if __name__ == \"__main__\":\n",
        "    test_get_pokemon_data_bulbasaur()\n",
        "    test_get_pokemon_data_charmander()\n",
        "    test_get_pokemon_data_squirtle()\n",
        "    print(\"All get_pokemon_data tests passed!\")"
      ],
      "metadata": {
        "colab": {
          "base_uri": "https://localhost:8080/"
        },
        "id": "MzUghtzR6b8b",
        "outputId": "b74efc26-1798-4864-b67a-30b0949d362e"
      },
      "execution_count": 54,
      "outputs": [
        {
          "output_type": "stream",
          "name": "stdout",
          "text": [
            "All get_pokemon_data tests passed!\n"
          ]
        }
      ]
    },
    {
      "cell_type": "markdown",
      "source": [
        "## Choose best pokemon (5 pt)"
      ],
      "metadata": {
        "id": "oFhJdQ4a3Gq0"
      }
    },
    {
      "cell_type": "markdown",
      "source": [
        "#### Your function"
      ],
      "metadata": {
        "id": "iMgAV16J7BaP"
      }
    },
    {
      "cell_type": "code",
      "execution_count": 68,
      "metadata": {
        "id": "9uLuH9LaygWt"
      },
      "outputs": [],
      "source": [
        "def choose_best_pokemon(team: Dict[str, int], opponent: Dict[str, int]) -> str:\n",
        "    \"\"\"\n",
        "    Selects the best Pokémon from the team to face the opponent based on computed scores.\n",
        "\n",
        "    Parameters:\n",
        "      - team: A dictionary mapping Pokémon names (str) to desired levels (int).\n",
        "              Example: {\"pikachu\": 32, \"charmander\": 30, ...}\n",
        "      - opponent: A dictionary with keys \"name\" (str) and \"level\" (int).\n",
        "                  Example: {\"name\": \"geodude\", \"level\": 20}\n",
        "\n",
        "    Returns:\n",
        "      The name (str) of the team Pokémon with the highest computed score.\n",
        "    \"\"\"\n",
        "    opp_level = opponent['level']\n",
        "    opp_name = opponent['name']\n",
        "    # Retrieve opponent's data\n",
        "    opp_types, opp_att, opp_defe = get_pokemon_data(pokemons, opp_name)\n",
        "\n",
        "    best_score = -1e6\n",
        "    best_pokemon = None\n",
        "\n",
        "    for pokemon, level in team.items():\n",
        "        tipi, att, defe = get_pokemon_data(pokemons, pokemon)\n",
        "        bonus1 = calculate_attacking_bonus(types_table, tipi, opp_types)\n",
        "        bonus2 = calculate_attacking_bonus(types_table, opp_types, tipi)\n",
        "        score = calculate_score(att, defe, opp_att, opp_defe, level, opp_level, bonus1, bonus2)\n",
        "        if score > best_score:\n",
        "            best_score = score\n",
        "            best_pokemon = pokemon\n",
        "\n",
        "    return best_pokemon"
      ]
    },
    {
      "cell_type": "markdown",
      "source": [
        "#### Tests"
      ],
      "metadata": {
        "id": "gup_itUB7FAh"
      }
    },
    {
      "cell_type": "code",
      "source": [
        "def test1():\n",
        "    # Team: Gen 1 Pokémon; Opponent: Geodude (Rock/Ground)\n",
        "    team = {\n",
        "        \"pikachu\": 32,\n",
        "        \"charmander\": 30,\n",
        "        \"bulbasaur\": 33,\n",
        "        \"squirtle\": 31,\n",
        "        \"eevee\": 35,\n",
        "        \"pidgey\": 28\n",
        "    }\n",
        "    opponent = {\"name\": \"geodude\", \"level\": 20}\n",
        "    result = choose_best_pokemon(team, opponent)\n",
        "    print(f'Choosing {result} against {opponent[\"name\"]}:')\n",
        "    assert result == \"squirtle\", f\"Expected 'squirtle', got {result}\"\n",
        "\n",
        "def test2():\n",
        "    # Team: Gen 1 Pokémon; Opponent: Onix (Rock/Ground)\n",
        "    team = {\n",
        "        \"pikachu\": 32,\n",
        "        \"charmander\": 30,\n",
        "        \"bulbasaur\": 33,\n",
        "        \"squirtle\": 31,\n",
        "        \"eevee\": 35,\n",
        "        \"pidgey\": 28\n",
        "    }\n",
        "    opponent = {\"name\": \"onix\", \"level\": 22}\n",
        "    result = choose_best_pokemon(team, opponent)\n",
        "    print(f'Choosing {result} against {opponent[\"name\"]}:')\n",
        "    assert result == \"squirtle\", f\"Expected 'squirtle', got {result}\"\n",
        "\n",
        "def test3():\n",
        "    # Team: Gen 2 Pokémon; Opponent: Umbreon (Dark)\n",
        "    team = {\n",
        "        \"chikorita\": 30,\n",
        "        \"cyndaquil\": 30,\n",
        "        \"totodile\": 30,\n",
        "        \"pichu\": 25,\n",
        "        \"togepi\": 26,\n",
        "        \"mareep\": 27\n",
        "    }\n",
        "    opponent = {\"name\": \"umbreon\", \"level\": 30}\n",
        "    result = choose_best_pokemon(team, opponent)\n",
        "    print(f'Choosing {result} against {opponent[\"name\"]}:')\n",
        "    assert result == \"totodile\", f\"Expected 'totodile', got {result}\"\n",
        "\n",
        "def test4():\n",
        "    # Team: Mixed Gen; Opponent: Murkrow (Dark/Flying)\n",
        "    team = {\n",
        "        \"pikachu\": 32,\n",
        "        \"bulbasaur\": 33,\n",
        "        \"squirtle\": 31,\n",
        "        \"chikorita\": 30,\n",
        "        \"cyndaquil\": 30,\n",
        "        \"totodile\": 30\n",
        "    }\n",
        "    opponent = {\"name\": \"murkrow\", \"level\": 25}\n",
        "    result = choose_best_pokemon(team, opponent)\n",
        "    print(f'Choosing {result} against {opponent[\"name\"]}:')\n",
        "    assert result == \"pikachu\", f\"Expected 'pikachu', got {result}\"\n",
        "\n",
        "def test5():\n",
        "    # Team: Gen 1 Pokémon; Opponent: Gyarados (Water/Flying)\n",
        "    team = {\n",
        "        \"machop\": 29,\n",
        "        \"gastly\": 30,\n",
        "        \"onix\": 27,\n",
        "        \"hitmonlee\": 31,\n",
        "        \"jigglypuff\": 25,\n",
        "        \"snorlax\": 35\n",
        "    }\n",
        "    opponent = {\"name\": \"gyarados\", \"level\": 35}\n",
        "    result = choose_best_pokemon(team, opponent)\n",
        "    print(f'Choosing {result} against {opponent[\"name\"]}:')\n",
        "    assert result == \"snorlax\", f\"Expected 'snorlax', got {result}\"\n",
        "\n",
        "def test6():\n",
        "    # Team: Early Gen 1 Pokémon; Opponent: Alakazam (Psychic)\n",
        "    team = {\n",
        "        \"pidgey\": 20,\n",
        "        \"rattata\": 20,\n",
        "        \"ekans\": 22,\n",
        "        \"sandshrew\": 100,\n",
        "        \"lugia\": 23,\n",
        "        \"clefairy\": 24\n",
        "    }\n",
        "    opponent = {\"name\": \"alakazam\", \"level\": 28}\n",
        "    result = choose_best_pokemon(team, opponent)\n",
        "    print(f'Choosing {result} against {opponent[\"name\"]}:')\n",
        "    assert result == \"sandshrew\", f\"Expected 'sandshrew', got {result}\"\n",
        "\n",
        "def test7():\n",
        "    # Team: Gen 2 Pokémon; Opponent: Feraligatr (Water)\n",
        "    team = {\n",
        "        \"chikorita\": 30,\n",
        "        \"cyndaquil\": 30,\n",
        "        \"totodile\": 30,\n",
        "        \"bellossom\": 34,\n",
        "        \"hoothoot\": 22,\n",
        "        \"ledyba\": 20\n",
        "    }\n",
        "    opponent = {\"name\": \"feraligatr\", \"level\": 32}\n",
        "    result = choose_best_pokemon(team, opponent)\n",
        "    print(f'Choosing {result} against {opponent[\"name\"]}:')\n",
        "    assert result == \"bellossom\", f\"Expected 'bellossom', got {result}\"\n",
        "\n",
        "def test8():\n",
        "    # Team: Gen 1 Pokémon; Opponent: Dragonite (Dragon/Flying)\n",
        "    team = {\n",
        "        \"pikachu\": 32,\n",
        "        \"charmander\": 30,\n",
        "        \"bulbasaur\": 33,\n",
        "        \"squirtle\": 31,\n",
        "        \"jigglypuff\": 25,\n",
        "        \"meowth\": 28\n",
        "    }\n",
        "    opponent = {\"name\": \"dragonite\", \"level\": 40}\n",
        "    result = choose_best_pokemon(team, opponent)\n",
        "    print(f'Choosing {result} against {opponent[\"name\"]}:')\n",
        "    assert result == \"jigglypuff\", f\"Expected 'jigglypuff', got {result}\"\n",
        "\n",
        "if __name__ == \"__main__\":\n",
        "    tests = [test1, test2, test3, test4, test5, test6, test7, test8]\n",
        "    for i, test in enumerate(tests, 1):\n",
        "        try:\n",
        "            test()\n",
        "            print(f\"Test {i} passed, it was the best choice for the battle\")\n",
        "        except AssertionError as e:\n",
        "            print(f\"Test {i} failed: {e}, you had a better pokemon to choose!\")\n"
      ],
      "metadata": {
        "colab": {
          "base_uri": "https://localhost:8080/"
        },
        "id": "7o-H4r_P_rZm",
        "outputId": "6af00967-071c-4be0-ce37-06da04c4f1be"
      },
      "execution_count": 72,
      "outputs": [
        {
          "output_type": "stream",
          "name": "stdout",
          "text": [
            "Choosing squirtle against geodude:\n",
            "Test 1 passed, it was the best choice for the battle\n",
            "Choosing squirtle against onix:\n",
            "Test 2 passed, it was the best choice for the battle\n",
            "Choosing totodile against umbreon:\n",
            "Test 3 passed, it was the best choice for the battle\n",
            "Choosing pikachu against murkrow:\n",
            "Test 4 passed, it was the best choice for the battle\n",
            "Choosing snorlax against gyarados:\n",
            "Test 5 passed, it was the best choice for the battle\n",
            "Choosing sandshrew against alakazam:\n",
            "Test 6 passed, it was the best choice for the battle\n",
            "Choosing bellossom against feraligatr:\n",
            "Test 7 passed, it was the best choice for the battle\n",
            "Choosing jigglypuff against dragonite:\n",
            "Test 8 passed, it was the best choice for the battle\n"
          ]
        }
      ]
    },
    {
      "cell_type": "markdown",
      "source": [],
      "metadata": {
        "id": "-Pc8HnFVyN7k"
      }
    }
  ]
}