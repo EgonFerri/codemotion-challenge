{
  "nbformat": 4,
  "nbformat_minor": 0,
  "metadata": {
    "colab": {
      "provenance": [],
      "authorship_tag": "ABX9TyPxcevyflCQ8hb2z0vPM0qj",
      "include_colab_link": true
    },
    "kernelspec": {
      "name": "python3",
      "display_name": "Python 3"
    },
    "language_info": {
      "name": "python"
    }
  },
  "cells": [
    {
      "cell_type": "markdown",
      "metadata": {
        "id": "view-in-github",
        "colab_type": "text"
      },
      "source": [
        "<a href=\"https://colab.research.google.com/github/EgonFerri/codemotion-challenge/blob/main/codemotion_challenge_solution.ipynb\" target=\"_parent\"><img src=\"https://colab.research.google.com/assets/colab-badge.svg\" alt=\"Open In Colab\"/></a>"
      ]
    },
    {
      "cell_type": "code",
      "source": [
        "import pandas as pd\n",
        "import polars as pl"
      ],
      "metadata": {
        "id": "XMwEIbW-y5Zg"
      },
      "execution_count": null,
      "outputs": []
    },
    {
      "cell_type": "markdown",
      "source": [
        "# Challenge: PokéBattle Champion – Type Multipliers Edition Background"
      ],
      "metadata": {
        "id": "WNHuJ8N3zghT"
      }
    },
    {
      "cell_type": "markdown",
      "source": [
        "\n",
        "You’re a Codemotion trainer with a team of 6 Pokémon (all from the first two generations), and you’re about to face a single opponent (a real Gen 1 or Gen 2 Pokémon).\n",
        "Your job is to choose the best Pokémon to battle the opponent by computing a score for each team member based on its stats and type interactions."
      ],
      "metadata": {
        "id": "Fe4Ysj5G4Ect"
      }
    },
    {
      "cell_type": "markdown",
      "source": [
        "# The Challenge"
      ],
      "metadata": {
        "id": "GquncSNHKwXp"
      }
    },
    {
      "cell_type": "markdown",
      "source": [
        "Implement a function\n",
        "\n",
        "```python\n",
        "def choose_best_pokemon(team, opponent):\n",
        "    # your code here\n",
        "```\n",
        "\n",
        "where:\n",
        "- **team** is a dictionary mapping Pokémon names to levels. For example:\n",
        "  ```python\n",
        "  team = {\n",
        "      \"pikachu\": 32,\n",
        "      \"charmander\": 30,\n",
        "      \"bulbasaur\": 33,\n",
        "      \"squirtle\": 31,\n",
        "      \"eevee\": 35,\n",
        "      \"pidgey\": 28\n",
        "  }\n",
        "  ```\n",
        "- **opponent** is a dictionary with the keys `\"name\"` and `\"level\"`. For example:\n",
        "  ```python\n",
        "  opponent = {\"name\": \"geodude\", \"level\": 20}\n",
        "  ```\n",
        "\n",
        "Your function must do the following:\n",
        "\n",
        "1. **Load the Data:**\n",
        "   - Read **pokemon.csv** to look up each Pokémon’s record by matching its name (case‑insensitively). For every Pokémon you use from the team as well as the opponent, retrieve its `\"Attack\"`, `\"Defense\"`, `\"Total\"`, `\"Type 1\"`, and `\"Type 2\"` (if available).  \n",
        "     (If a Pokémon has no secondary type, its `\"Type 2\"` field will be an empty string.)\n",
        "   - Read **attacking_types_chart.csv** to look up for attacking multipliers.\n",
        "\n",
        "2. **Compute the Score:**\n",
        "   For each Pokémon in the team, using its stats from **pokemon.csv** and its level from the team dictionary, compute its score using the formula:\n",
        "   ```python\n",
        "   score = (Attack * attacking_bonus - opponent_Defense)  + \\\n",
        "           (Defense - opponent_Attack * attacking_bonus)  + \\\n",
        "           5 * (team_level - opponent_level)\n",
        "   ```\n",
        "\n",
        "3. **Return the Best Choice:**\n",
        "   Return the name (the key from the team dictionary) of the Pokémon with the highest computed score. If the team is empty, return `None`.\n",
        "\n",
        "---\n",
        "\n",
        "## Additional Notes\n",
        "\n",
        "- **CSV Loading:**  \n",
        "  Your solution must read the provided CSV files. You may use Python’s built-in `csv` module or a library like `pandas` to load the files.  \n",
        "  Make sure to normalize Pokémon names and type names (e.g. convert to lowercase) for successful lookups.\n",
        "\n",
        "- **Computing Multipliers:**  \n",
        "  To compute the **attacking_bonus** for a matchup, iterate over every combination of one of your Pokémon’s types (from `\"Type 1\"` and, if nonempty, `\"Type 2\"`) and one of the opponent’s types (similarly, `\"Type 1\"` and `\"Type 2\"`). Multiply the corresponding values from the `attacking_multiplier` dictionary.\n",
        "\n",
        "\n",
        "Good luck—and may your chosen Pokémon always have the type advantage!"
      ],
      "metadata": {
        "id": "6RT1oe7r4_Mf"
      }
    },
    {
      "cell_type": "code",
      "source": [
        "def calculate_score(att1, def1, att2, def2, lev1, lev2, attbonus1, attbonus2):\n",
        "  a = (att1*attbonus1)-def2\n",
        "  b = def1 - (att2*attbonus2)\n",
        "  c = 5*(lev1 - lev2)\n",
        "\n",
        "  return a+b+c"
      ],
      "metadata": {
        "id": "CtlmifNiEpQF"
      },
      "execution_count": null,
      "outputs": []
    },
    {
      "cell_type": "code",
      "source": [
        "pokemons = pd.read_csv('pokemon.csv', index_col=0)\n",
        "types_table = pd.read_csv('attacking_types_chart.csv', index_col=0)\n",
        "def calculate_attacking_bonus(types_table,types1=(), types2=()):\n",
        "    m = 1\n",
        "    for tp in types1:\n",
        "      for tp2 in types2:\n",
        "        m = m*types_table[tp2][tp]\n",
        "    return m\n",
        "\n",
        "calculate_attacking_bonus(types_table, ['Grass'], ['Fire'])"
      ],
      "metadata": {
        "colab": {
          "base_uri": "https://localhost:8080/"
        },
        "id": "dfBHJF0f7a0u",
        "outputId": "fe457999-4bb7-4ee7-ed18-7e16889fb6d9"
      },
      "execution_count": null,
      "outputs": [
        {
          "output_type": "execute_result",
          "data": {
            "text/plain": [
              "np.float64(0.5)"
            ]
          },
          "metadata": {},
          "execution_count": 20
        }
      ]
    },
    {
      "cell_type": "code",
      "source": [
        "def get_pokemon_data(pokemon_data, pokemon_name):\n",
        "  pkmn = pokemon_name.capitalize()\n",
        "  row = pokemons[pokemons['Name']==pkmn].reset_index(drop=True).to_dict()\n",
        "  types = [row['Type 1'][0]]\n",
        "  if type(row['Type 2'][0]) == str:\n",
        "    types.append(row['Type 2'][0])\n",
        "  return types, row['Attack'][0], row['Defense'][0]\n",
        "get_pokemon_data(pokemons, 'charmander')"
      ],
      "metadata": {
        "colab": {
          "base_uri": "https://localhost:8080/"
        },
        "id": "Wd46RHCA-_2y",
        "outputId": "879abc30-b5f6-4ba0-e133-740d294c8fd4"
      },
      "execution_count": null,
      "outputs": [
        {
          "output_type": "execute_result",
          "data": {
            "text/plain": [
              "(['Fire'], 52, 43)"
            ]
          },
          "metadata": {},
          "execution_count": 62
        }
      ]
    },
    {
      "cell_type": "code",
      "execution_count": null,
      "metadata": {
        "id": "9uLuH9LaygWt"
      },
      "outputs": [],
      "source": [
        "def choose_best_pokemon(team, opponent):\n",
        "  opp_level = opponent['level']\n",
        "  opp_name = opponent['name']\n",
        "  opp_tipi, opp_att, opp_defe = get_pokemon_data(pokemons, opp_name)\n",
        "  best_score = -1000000\n",
        "  for pokemon, level in team.items():\n",
        "    tipi, att, defe = get_pokemon_data(pokemons, pokemon)\n",
        "    bonus1 = calculate_attacking_bonus(types_table, tipi, opp_tipi)\n",
        "    bonus2 = calculate_attacking_bonus(types_table, opp_tipi, tipi)\n",
        "    score = calculate_score(att, defe, opp_att, opp_defe, level, opp_level, bonus1, bonus2)\n",
        "    if score>best_score:\n",
        "      best_score = score\n",
        "      best_pokemon = pokemon\n",
        "  print(f'for {opp_name} the best choice is {best_pokemon}')\n",
        "  return best_pokemon"
      ]
    },
    {
      "cell_type": "code",
      "source": [
        "team = {\n",
        "        \"pikachu\": 32,\n",
        "        \"charmander\": 30,\n",
        "        \"bulbasaur\": 33,\n",
        "        \"squirtle\": 31,\n",
        "        \"eevee\": 35,\n",
        "        \"pidgey\": 28\n",
        "    }\n",
        "opponent = {\"name\": \"geodude\", \"level\": 20}\n",
        "\n",
        "best_choice = choose_best_pokemon(team, opponent)\n",
        "print(best_choice)"
      ],
      "metadata": {
        "colab": {
          "base_uri": "https://localhost:8080/"
        },
        "id": "7o-H4r_P_rZm",
        "outputId": "7e7a4983-bb66-47f1-dd64-1a7e40db7dd0"
      },
      "execution_count": null,
      "outputs": [
        {
          "output_type": "stream",
          "name": "stdout",
          "text": [
            "for geodude the best choice is squirtle\n",
            "squirtle\n"
          ]
        }
      ]
    },
    {
      "cell_type": "markdown",
      "source": [
        "# TEST"
      ],
      "metadata": {
        "id": "BKwXRdVw6n6U"
      }
    },
    {
      "cell_type": "code",
      "source": [
        "\n",
        "def test1():\n",
        "    # Team: Gen 1 Pokémon; Opponent: Geodude (Rock/Ground)\n",
        "    team = {\n",
        "        \"pikachu\": 32,\n",
        "        \"charmander\": 30,\n",
        "        \"bulbasaur\": 33,\n",
        "        \"squirtle\": 31,\n",
        "        \"eevee\": 35,\n",
        "        \"pidgey\": 28\n",
        "    }\n",
        "    opponent = {\"name\": \"geodude\", \"level\": 20}\n",
        "    # Based on the formula and multipliers, assume the best score is for \"squirtle\"\n",
        "    assert choose_best_pokemon(team, opponent) == \"squirtle\"\n",
        "\n",
        "def test2():\n",
        "    # Team: Gen 1 Pokémon; Opponent: Onix (Rock/Ground)\n",
        "    team = {\n",
        "        \"pikachu\": 32,\n",
        "        \"charmander\": 30,\n",
        "        \"bulbasaur\": 33,\n",
        "        \"squirtle\": 31,\n",
        "        \"eevee\": 35,\n",
        "        \"pidgey\": 28\n",
        "    }\n",
        "    opponent = {\"name\": \"onix\", \"level\": 22}\n",
        "    result = choose_best_pokemon(team, opponent)\n",
        "    assert result in team\n",
        "\n",
        "def test3():\n",
        "    # Team: Gen 2 Pokémon; Opponent: Umbreon (Dark)\n",
        "    team = {\n",
        "        \"chikorita\": 30,\n",
        "        \"cyndaquil\": 30,\n",
        "        \"totodile\": 30,\n",
        "        \"pichu\": 25,\n",
        "        \"togepi\": 26,\n",
        "        \"mareep\": 27\n",
        "    }\n",
        "    opponent = {\"name\": \"umbreon\", \"level\": 30}\n",
        "    result = choose_best_pokemon(team, opponent)\n",
        "    assert result in team\n",
        "\n",
        "def test4():\n",
        "    # Team: Mixed Gen; Opponent: Murkrow (Dark/Flying)\n",
        "    team = {\n",
        "        \"pikachu\": 32,\n",
        "        \"bulbasaur\": 33,\n",
        "        \"squirtle\": 31,\n",
        "        \"chikorita\": 30,\n",
        "        \"cyndaquil\": 30,\n",
        "        \"totodile\": 30\n",
        "    }\n",
        "    opponent = {\"name\": \"murkrow\", \"level\": 25}\n",
        "    result = choose_best_pokemon(team, opponent)\n",
        "    assert result in team\n",
        "\n",
        "def test5():\n",
        "    # Team: Gen 1 Pokémon; Opponent: Gyarados (Water/Flying)\n",
        "    team = {\n",
        "        \"machop\": 29,\n",
        "        \"gastly\": 30,\n",
        "        \"onix\": 27,\n",
        "        \"hitmonlee\": 31,\n",
        "        \"jigglypuff\": 25,\n",
        "        \"snorlax\": 35\n",
        "    }\n",
        "    opponent = {\"name\": \"gyarados\", \"level\": 35}\n",
        "    result = choose_best_pokemon(team, opponent)\n",
        "    assert result in team\n",
        "\n",
        "def test6():\n",
        "    # Team: Early Gen 1 Pokémon; Opponent: Alakazam (Psychic)\n",
        "    team = {\n",
        "        \"pidgey\": 20,\n",
        "        \"rattata\": 20,\n",
        "        \"ekans\": 22,\n",
        "        \"sandshrew\": 23,\n",
        "        \"sandshrew\": 100,\n",
        "        \"clefairy\": 24\n",
        "    }\n",
        "    opponent = {\"name\": \"alakazam\", \"level\": 28}\n",
        "    result = choose_best_pokemon(team, opponent)\n",
        "    assert result in team\n",
        "\n",
        "def test7():\n",
        "    # Team: Gen 2 Pokémon; Opponent: Feraligatr (Water)\n",
        "    team = {\n",
        "        \"chikorita\": 30,\n",
        "        \"cyndaquil\": 30,\n",
        "        \"totodile\": 30,\n",
        "        \"bellossom\": 34,\n",
        "        \"hoothoot\": 22,\n",
        "        \"ledyba\": 20\n",
        "    }\n",
        "    opponent = {\"name\": \"feraligatr\", \"level\": 32}\n",
        "    result = choose_best_pokemon(team, opponent)\n",
        "    assert result in team\n",
        "\n",
        "def test8():\n",
        "    # Team: Gen 1 Pokémon; Opponent: Dragonite (Dragon/Flying)\n",
        "    team = {\n",
        "        \"pikachu\": 32,\n",
        "        \"charmander\": 30,\n",
        "        \"bulbasaur\": 33,\n",
        "        \"squirtle\": 31,\n",
        "        \"jigglypuff\": 25,\n",
        "        \"meowth\": 28\n",
        "    }\n",
        "    opponent = {\"name\": \"dragonite\", \"level\": 40}\n",
        "    result = choose_best_pokemon(team, opponent)\n",
        "    assert result in team\n",
        "\n",
        "# Run all tests\n",
        "if __name__ == \"__main__\":\n",
        "    tests = [test1, test2, test3, test4, test5, test6, test7, test8]\n",
        "    for i, test in enumerate(tests, 1):\n",
        "        try:\n",
        "            test()\n",
        "            print(f\"Test {i} passed.\")\n",
        "        except AssertionError:\n",
        "            print(f\"Test {i} failed.\")\n"
      ],
      "metadata": {
        "colab": {
          "base_uri": "https://localhost:8080/"
        },
        "id": "1ch9Ev7b6jX9",
        "outputId": "8f7a4879-b7b4-47df-805f-213c019df357"
      },
      "execution_count": null,
      "outputs": [
        {
          "output_type": "stream",
          "name": "stdout",
          "text": [
            "for geodude the best choice is squirtle\n",
            "Test 1 passed.\n",
            "for onix the best choice is squirtle\n",
            "Test 2 passed.\n",
            "for umbreon the best choice is totodile\n",
            "Test 3 passed.\n",
            "for murkrow the best choice is pikachu\n",
            "Test 4 passed.\n",
            "for gyarados the best choice is snorlax\n",
            "Test 5 passed.\n",
            "for alakazam the best choice is sandshrew\n",
            "Test 6 passed.\n",
            "for feraligatr the best choice is bellossom\n",
            "Test 7 passed.\n",
            "for dragonite the best choice is jigglypuff\n",
            "Test 8 passed.\n"
          ]
        }
      ]
    }
  ]
}